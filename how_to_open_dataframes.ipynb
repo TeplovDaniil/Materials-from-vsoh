{
 "cells": [
  {
   "cell_type": "code",
   "execution_count": 1,
   "metadata": {},
   "outputs": [],
   "source": [
    "import pandas as pd\n",
    "import pandas as pd\n",
    "import sqlite3\n",
    "import polars as pl\n",
    "import polars as pl\n",
    "import glob\n",
    "import polars as pl\n",
    "import sqlite3"
   ]
  },
  {
   "cell_type": "markdown",
   "metadata": {},
   "source": [
    "пандас"
   ]
  },
  {
   "cell_type": "code",
   "execution_count": null,
   "metadata": {},
   "outputs": [],
   "source": [
    "import pandas as pd\n",
    "df = pd.read_csv('path_to_file.csv')\n"
   ]
  },
  {
   "cell_type": "code",
   "execution_count": null,
   "metadata": {},
   "outputs": [],
   "source": [
    "import pandas as pd\n",
    "df = pd.read_excel('path_to_file.xlsx')\n"
   ]
  },
  {
   "cell_type": "code",
   "execution_count": null,
   "metadata": {},
   "outputs": [],
   "source": [
    "import pandas as pd\n",
    "import sqlite3\n",
    "conn = sqlite3.connect('database.db')\n",
    "df = pd.read_sql('SELECT * FROM table_name', conn)\n"
   ]
  },
  {
   "cell_type": "markdown",
   "metadata": {},
   "source": [
    "полярис"
   ]
  },
  {
   "cell_type": "code",
   "execution_count": null,
   "metadata": {},
   "outputs": [],
   "source": [
    "import polars as pl\n",
    "df = pl.read_csv('path_to_file.csv')\n"
   ]
  },
  {
   "cell_type": "code",
   "execution_count": null,
   "metadata": {},
   "outputs": [],
   "source": [
    "import polars as pl\n",
    "df = pl.read_parquet('path_to_file.parquet')\n"
   ]
  },
  {
   "cell_type": "code",
   "execution_count": null,
   "metadata": {},
   "outputs": [],
   "source": [
    "import polars as pl\n",
    "df = pl.read_json('path_to_file.json')\n"
   ]
  },
  {
   "cell_type": "markdown",
   "metadata": {},
   "source": [
    "потоковое чтение"
   ]
  },
  {
   "cell_type": "code",
   "execution_count": 2,
   "metadata": {},
   "outputs": [
    {
     "ename": "ValueError",
     "evalue": "cannot concat empty list",
     "output_type": "error",
     "traceback": [
      "\u001b[1;31m---------------------------------------------------------------------------\u001b[0m",
      "\u001b[1;31mValueError\u001b[0m                                Traceback (most recent call last)",
      "Cell \u001b[1;32mIn[2], line 9\u001b[0m\n\u001b[0;32m      7\u001b[0m \u001b[38;5;66;03m# Загружаем и объединяем все CSV файлы\u001b[39;00m\n\u001b[0;32m      8\u001b[0m dfs \u001b[38;5;241m=\u001b[39m [pl\u001b[38;5;241m.\u001b[39mread_csv(file) \u001b[38;5;28;01mfor\u001b[39;00m file \u001b[38;5;129;01min\u001b[39;00m csv_files]\n\u001b[1;32m----> 9\u001b[0m df \u001b[38;5;241m=\u001b[39m \u001b[43mpl\u001b[49m\u001b[38;5;241;43m.\u001b[39;49m\u001b[43mconcat\u001b[49m\u001b[43m(\u001b[49m\u001b[43mdfs\u001b[49m\u001b[43m)\u001b[49m\n",
      "File \u001b[1;32md:\\anaconda\\Lib\\site-packages\\polars\\functions\\eager.py:136\u001b[0m, in \u001b[0;36mconcat\u001b[1;34m(items, how, rechunk, parallel)\u001b[0m\n\u001b[0;32m    134\u001b[0m \u001b[38;5;28;01mif\u001b[39;00m \u001b[38;5;129;01mnot\u001b[39;00m elems:\n\u001b[0;32m    135\u001b[0m     msg \u001b[38;5;241m=\u001b[39m \u001b[38;5;124m\"\u001b[39m\u001b[38;5;124mcannot concat empty list\u001b[39m\u001b[38;5;124m\"\u001b[39m\n\u001b[1;32m--> 136\u001b[0m     \u001b[38;5;28;01mraise\u001b[39;00m \u001b[38;5;167;01mValueError\u001b[39;00m(msg)\n\u001b[0;32m    137\u001b[0m \u001b[38;5;28;01melif\u001b[39;00m \u001b[38;5;28mlen\u001b[39m(elems) \u001b[38;5;241m==\u001b[39m \u001b[38;5;241m1\u001b[39m \u001b[38;5;129;01mand\u001b[39;00m \u001b[38;5;28misinstance\u001b[39m(\n\u001b[0;32m    138\u001b[0m     elems[\u001b[38;5;241m0\u001b[39m], (pl\u001b[38;5;241m.\u001b[39mDataFrame, pl\u001b[38;5;241m.\u001b[39mSeries, pl\u001b[38;5;241m.\u001b[39mLazyFrame)\n\u001b[0;32m    139\u001b[0m ):\n\u001b[0;32m    140\u001b[0m     \u001b[38;5;28;01mreturn\u001b[39;00m elems[\u001b[38;5;241m0\u001b[39m]\n",
      "\u001b[1;31mValueError\u001b[0m: cannot concat empty list"
     ]
    }
   ],
   "source": [
    "import polars as pl\n",
    "import glob\n",
    "\n",
    "# Получаем список всех CSV файлов в директории\n",
    "csv_files = glob.glob('path_to_directory/*.csv')\n",
    "\n",
    "# Загружаем и объединяем все CSV файлы\n",
    "dfs = [pl.read_csv(file) for file in csv_files]\n",
    "df = pl.concat(dfs)"
   ]
  },
  {
   "cell_type": "code",
   "execution_count": null,
   "metadata": {},
   "outputs": [],
   "source": [
    "import polars as pl\n",
    "import glob\n",
    "\n",
    "# Получаем список всех Parquet файлов\n",
    "parquet_files = glob.glob('path_to_directory/*.parquet')\n",
    "\n",
    "# Загружаем и объединяем все Parquet файлы\n",
    "dfs = [pl.read_parquet(file) for file in parquet_files]\n",
    "df = pl.concat(dfs)\n"
   ]
  },
  {
   "cell_type": "code",
   "execution_count": null,
   "metadata": {},
   "outputs": [],
   "source": [
    "import polars as pl\n",
    "import sqlite3\n",
    "\n",
    "# Подключаемся к базе данных\n",
    "conn = sqlite3.connect('database.db')\n",
    "\n",
    "# Загружаем несколько таблиц из базы данных\n",
    "tables = ['table1', 'table2', 'table3']\n",
    "dfs = [pl.read_sql(f'SELECT * FROM {table}', conn) for table in tables]\n",
    "\n",
    "# Объединяем все датафреймы\n",
    "df = pl.concat(dfs)\n"
   ]
  },
  {
   "cell_type": "code",
   "execution_count": null,
   "metadata": {},
   "outputs": [],
   "source": [
    "\n",
    "import pandas as pd\n",
    "\n",
    "\n",
    "file_paths = [\n",
    "\n",
    "]\n",
    "\n",
    "\n",
    "dataframes = []\n",
    "\n",
    "for file_path in file_paths:\n",
    "\n",
    "    df = pd.read_csv(file_path,sep=';')\n",
    "    \n",
    "\n",
    "    df['datetime'] = pd.to_datetime(df['DATE'] + ' ' + df['TIME'], format='%d.%m.%Y %H:%M:%S')\n",
    "    \n",
    "\n",
    "    df.drop(['DATE', 'TIME'], axis=1, inplace=True)\n",
    "    \n",
    "\n",
    "    df['year'] = df['datetime'].dt.year\n",
    "    df['month'] = df['datetime'].dt.month\n",
    "    df['day'] = df['datetime'].dt.day\n",
    "    df['weekday'] = df['datetime'].dt.weekday\n",
    "    df['hour'] = df['datetime'].dt.hour\n",
    "    df['minute'] = df['datetime'].dt.minute\n",
    "    \n",
    "\n",
    "    dataframes.append(df)\n",
    "\n",
    "\n",
    "df1 = pd.concat(dataframes, ignore_index=True)\n"
   ]
  }
 ],
 "metadata": {
  "kernelspec": {
   "display_name": "base",
   "language": "python",
   "name": "python3"
  },
  "language_info": {
   "codemirror_mode": {
    "name": "ipython",
    "version": 3
   },
   "file_extension": ".py",
   "mimetype": "text/x-python",
   "name": "python",
   "nbconvert_exporter": "python",
   "pygments_lexer": "ipython3",
   "version": "3.12.7"
  }
 },
 "nbformat": 4,
 "nbformat_minor": 2
}
