{
 "cells": [
  {
   "cell_type": "code",
   "execution_count": null,
   "id": "initial_id",
   "metadata": {},
   "outputs": [],
   "source": [
    "import os\n",
    "import numpy as np\n",
    "import pandas as pd\n",
    "import seaborn as sns\n",
    "import matplotlib.pyplot as plt\n",
    "import torch\n",
    "from torch import nn, device\n",
    "from torch.utils.data import DataLoader, Subset, Dataset\n",
    "from torchvision import models, tv_tensors\n",
    "from torchvision.io import read_image\n",
    "from torchvision.transforms import v2\n",
    "from torchmetrics.detection.iou import IntersectionOverUnion\n",
    "from tqdm.notebook import tqdm\n",
    "%matplotlib inline"
   ]
  },
  {
   "cell_type": "code",
   "execution_count": null,
   "id": "84de9faaeeddb1c0",
   "metadata": {
    "collapsed": false,
    "jupyter": {
     "outputs_hidden": false
    }
   },
   "outputs": [],
   "source": [
    "device = (\n",
    "    \"cuda\"\n",
    "    if torch.cuda.is_available()\n",
    "    else \"mps\"\n",
    "    if torch.backends.mps.is_available()\n",
    "    else \"cpu\"\n",
    ")\n",
    "print(f\"Using {device} device\")"
   ]
  },
  {
   "cell_type": "code",
   "execution_count": null,
   "id": "b96fbf44b6a64172",
   "metadata": {
    "collapsed": false,
    "jupyter": {
     "outputs_hidden": false
    }
   },
   "outputs": [],
   "source": [
    "class ImageDataset(Dataset):\n",
    "    def __init__(self, img_labels, img_dir, transform=None, target_transform=None):\n",
    "        self.img_labels = img_labels\n",
    "        self.img_dir = img_dir\n",
    "        self.transform = transform\n",
    "        self.target_transform = target_transform\n",
    "\n",
    "    def __len__(self):\n",
    "        return len(self.img_labels)\n",
    "\n",
    "    def __getitem__(self, idx):\n",
    "        img_path = os.path.join(self.img_dir, self.img_labels.iloc[idx, 0])\n",
    "        image = read_image(img_path)\n",
    "        labels = self.img_labels.iloc[idx, 1].copy()\n",
    "        boxes = self.img_labels.iloc[idx, 2].copy()\n",
    "        boxes[:, 0], boxes[:, 2] = boxes[:, 0] - boxes[:, 2] / 2, boxes[:, 0] + boxes[:, 2] / 2\n",
    "        boxes[:, 1], boxes[:, 3] = boxes[:, 1] - boxes[:, 3] / 2, boxes[:, 1] + boxes[:, 3] / 2\n",
    "        boxes *= 640\n",
    "        boxes = tv_tensors.BoundingBoxes(boxes, format='XYXY', canvas_size=(640, 640))\n",
    "        if self.transform is not None:\n",
    "            image, boxes = self.transform(image, boxes)\n",
    "        if self.target_transform is not None:\n",
    "            labels = self.target_transform(labels)\n",
    "        return image, labels, boxes"
   ]
  },
  {
   "cell_type": "code",
   "execution_count": null,
   "id": "f7fb4bae9513f248",
   "metadata": {
    "collapsed": false,
    "jupyter": {
     "outputs_hidden": false
    }
   },
   "outputs": [],
   "source": [
    "path = 'train'\n",
    "annotation = pd.DataFrame(\n",
    "    {'filename': [f for f in os.listdir(f'{path}/images/') if os.path.isfile(os.path.join(f'{path}/images', f))]})\n",
    "annotation['class'] = annotation['filename'].apply(\n",
    "    lambda x: np.loadtxt(os.path.join(f'{path}/labels', f'{x[:-4]}.txt')))\n",
    "# print(len(os.listdir(f'{path}/images/')), len(annotation))\n",
    "# annotation['class'].apply(lambda x: x.shape[-1] != 5).sum()\n",
    "annotation = annotation[annotation['class'].apply(lambda x: x.shape[-1] == 5)]\n",
    "annotation.reset_index(drop=True, inplace=True)\n",
    "annotation['class'] = annotation['class'].apply(lambda x: x.reshape((-1, 5)))\n",
    "annotation['bbox'] = annotation['class'].apply(lambda x: x[:, 1:].astype(np.float32))\n",
    "annotation['class'] = annotation['class'].apply(lambda x: x[:, 0].astype(np.int64))"
   ]
  },
  {
   "cell_type": "code",
   "execution_count": null,
   "id": "b31368231151c35d",
   "metadata": {
    "collapsed": false,
    "jupyter": {
     "outputs_hidden": false
    }
   },
   "outputs": [],
   "source": [
    "train_data = ImageDataset(\n",
    "    img_labels=annotation,\n",
    "    img_dir=f'{path}/images',\n",
    "    transform=v2.Compose([\n",
    "        v2.Resize((64, 64), antialias=True),\n",
    "        v2.RandomHorizontalFlip(0.5),\n",
    "        v2.ColorJitter(brightness=0.1, contrast=0.1, saturation=0.1),\n",
    "        v2.ToImage(),\n",
    "        v2.ToDtype(torch.float, scale=True),\n",
    "        # v2.Normalize(mean=[0.485, 0.456, 0.406], std=[0.229, 0.224, 0.225])\n",
    "    ]),\n",
    "    target_transform=v2.Compose([\n",
    "        torch.tensor,\n",
    "    ])\n",
    ")\n",
    "train_data[0]"
   ]
  },
  {
   "cell_type": "code",
   "execution_count": null,
   "id": "11bcbc49c8bd5679",
   "metadata": {
    "collapsed": false,
    "jupyter": {
     "outputs_hidden": false
    }
   },
   "outputs": [],
   "source": [
    "train_dataloader = DataLoader(train_data, batch_size=1, shuffle=True)\n",
    "# test_dataloader = DataLoader(test_data, batch_size=1, shuffle=False)"
   ]
  },
  {
   "cell_type": "code",
   "execution_count": null,
   "id": "d048ec83036bf5e0",
   "metadata": {
    "collapsed": false,
    "jupyter": {
     "outputs_hidden": false
    }
   },
   "outputs": [],
   "source": [
    "model = models.detection.fasterrcnn_resnet50_fpn(weights='DEFAULT')\n",
    "model = model.to(device)"
   ]
  },
  {
   "cell_type": "code",
   "execution_count": null,
   "id": "c6aba73da60ff0c1",
   "metadata": {
    "collapsed": false,
    "jupyter": {
     "outputs_hidden": false
    }
   },
   "outputs": [],
   "source": [
    "def train(dataloader, model, optimizer):\n",
    "    model.train()\n",
    "    for image, target in tqdm(dataloader):\n",
    "        image = image.reshape((3, 64, 64)).to(device)\n",
    "        target['boxes'] = target['boxes'].reshape((-1, 4)).to(device)\n",
    "        target['labels'] = target['labels'].reshape((-1,)).to(device)\n",
    "        optimizer.zero_grad()\n",
    "        pred = model([image], [target])\n",
    "        loss = sum(pred.values())\n",
    "        loss.backward()\n",
    "        optimizer.step()\n",
    "    torch.save(model.state_dict(), \"model.pth\")"
   ]
  },
  {
   "cell_type": "code",
   "execution_count": null,
   "id": "3592183985c4aa3d",
   "metadata": {
    "collapsed": false,
    "jupyter": {
     "outputs_hidden": false
    }
   },
   "outputs": [],
   "source": [
    "def test(dataloader, model, title=''):\n",
    "    model.load_state_dict(torch.load(\"model.pth\"))\n",
    "    iou = IntersectionOverUnion()\n",
    "    loss_cls, loss_box = 0, 0\n",
    "    model.eval()\n",
    "    with torch.no_grad():\n",
    "        for image, target in tqdm(dataloader):\n",
    "            image = image.reshape((3, 64, 64)).to(device)\n",
    "            target['boxes'] = target['boxes'].reshape((-1, 4)).to(device)\n",
    "            target['labels'] = target['labels'].reshape((-1,)).to(device)\n",
    "            pred = model([image])\n",
    "            iou.update(pred, [target])\n",
    "    model.train()\n",
    "    # from torchmetrics.detection.mean_ap import MeanAveragePrecision\n",
    "    with torch.no_grad():\n",
    "        for image, target in tqdm(dataloader):\n",
    "            image = image.reshape((3, 64, 64)).to(device)\n",
    "            target['boxes'] = target['boxes'].reshape((-1, 4)).to(device)\n",
    "            target['labels'] = target['labels'].reshape((-1,)).to(device)\n",
    "            pred = model([image], [target])\n",
    "            loss_cls += pred['loss_classifier']\n",
    "            loss_box += pred['loss_box_reg']\n",
    "    iou = iou.compute()['map_50'].cpu().item()\n",
    "    loss_cls = loss_cls.cpu().item() / len(dataloader)\n",
    "    loss_box = loss_box.cpu().item() / len(dataloader)\n",
    "    print(f\"{title} Error:\\nLoss cls: {loss_cls}\\nLoss box: {loss_box}\\nmAP: {map}\")\n",
    "    return [loss_cls, loss_box, iou]"
   ]
  },
  {
   "cell_type": "code",
   "execution_count": null,
   "id": "43b555b0ecc6cbc3",
   "metadata": {
    "collapsed": false,
    "jupyter": {
     "outputs_hidden": false
    }
   },
   "outputs": [],
   "source": [
    "params = [p for p in model.parameters() if p.requires_grad]\n",
    "optimizer = torch.optim.SGD(\n",
    "    params,\n",
    "    lr=0.005,\n",
    "    momentum=0.9,\n",
    "    weight_decay=0.0005\n",
    ")\n",
    "scheduler = torch.optim.lr_scheduler.StepLR(\n",
    "    optimizer,\n",
    "    step_size=3,\n",
    "    gamma=0.1\n",
    ")"
   ]
  },
  {
   "cell_type": "code",
   "execution_count": null,
   "id": "f6cc874f1f353ad4",
   "metadata": {
    "collapsed": false,
    "jupyter": {
     "outputs_hidden": false
    }
   },
   "outputs": [],
   "source": [
    "epochs = 2\n",
    "metrics = [0] * epochs\n",
    "for t in range(epochs):\n",
    "    print(f\"Epoch {t + 1}\\n-------------------------------\")\n",
    "    train(train_dataloader, model, optimizer)\n",
    "    metrics[t] = test(train_dataloader, model, 'Train') + test(test_dataloader, model, 'Test')\n",
    "    scheduler.step()\n",
    "print(\"Done!\")\n",
    "metrics[-1]"
   ]
  },
  {
   "cell_type": "code",
   "execution_count": null,
   "id": "cbccd4eb06a85ed6",
   "metadata": {
    "collapsed": false,
    "jupyter": {
     "outputs_hidden": false
    }
   },
   "outputs": [],
   "source": [
    "metrics = np.array(metrics)\n",
    "fig, ax = plt.subplots(1, 3)\n",
    "sns.lineplot(data=pd.DataFrame(metrics[:, ::3], columns=['train', 'test']), ax=ax[0]).set(title='cls_loss')\n",
    "sns.lineplot(data=pd.DataFrame(metrics[:, 1::3], columns=['train', 'test']), ax=ax[1]).set(title='box_loss')\n",
    "sns.lineplot(data=pd.DataFrame(metrics[:, 2::3], columns=['train', 'test']), ax=ax[2]).set(title='IoU')"
   ]
  }
 ],
 "metadata": {
  "kernelspec": {
   "display_name": "Python 3 (ipykernel)",
   "language": "python",
   "name": "python3"
  },
  "language_info": {
   "codemirror_mode": {
    "name": "ipython",
    "version": 3
   },
   "file_extension": ".py",
   "mimetype": "text/x-python",
   "name": "python",
   "nbconvert_exporter": "python",
   "pygments_lexer": "ipython3",
   "version": "3.11.8"
  }
 },
 "nbformat": 4,
 "nbformat_minor": 5
}
