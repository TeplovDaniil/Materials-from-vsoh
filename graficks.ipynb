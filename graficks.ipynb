{
 "cells": [
  {
   "cell_type": "code",
   "execution_count": 1,
   "metadata": {},
   "outputs": [
    {
     "ename": "NameError",
     "evalue": "name 'df1' is not defined",
     "output_type": "error",
     "traceback": [
      "\u001b[1;31m---------------------------------------------------------------------------\u001b[0m",
      "\u001b[1;31mNameError\u001b[0m                                 Traceback (most recent call last)",
      "Cell \u001b[1;32mIn[1], line 2\u001b[0m\n\u001b[0;32m      1\u001b[0m \u001b[38;5;28;01mimport\u001b[39;00m \u001b[38;5;21;01mmatplotlib\u001b[39;00m\u001b[38;5;21;01m.\u001b[39;00m\u001b[38;5;21;01mpyplot\u001b[39;00m \u001b[38;5;28;01mas\u001b[39;00m \u001b[38;5;21;01mplt\u001b[39;00m\n\u001b[1;32m----> 2\u001b[0m df \u001b[38;5;241m=\u001b[39m \u001b[43mdf1\u001b[49m\n\u001b[0;32m      3\u001b[0m plt\u001b[38;5;241m.\u001b[39mfigure(figsize\u001b[38;5;241m=\u001b[39m(\u001b[38;5;241m14\u001b[39m, \u001b[38;5;241m7\u001b[39m))\n\u001b[0;32m      4\u001b[0m plt\u001b[38;5;241m.\u001b[39mplot(df[\u001b[38;5;124m'\u001b[39m\u001b[38;5;124m'\u001b[39m], label\u001b[38;5;241m=\u001b[39m\u001b[38;5;124m'\u001b[39m\u001b[38;5;124mClose Price\u001b[39m\u001b[38;5;124m'\u001b[39m, color\u001b[38;5;241m=\u001b[39m\u001b[38;5;124m'\u001b[39m\u001b[38;5;124mblue\u001b[39m\u001b[38;5;124m'\u001b[39m)\n",
      "\u001b[1;31mNameError\u001b[0m: name 'df1' is not defined"
     ]
    }
   ],
   "source": [
    "\n",
    "import matplotlib.pyplot as plt\n",
    "df = df1\n",
    "plt.figure(figsize=(14, 7))\n",
    "plt.plot(df[''], label='Close Price', color='blue')\n",
    "plt.title('Close Price Trend')\n",
    "plt.xlabel('Time')\n",
    "plt.ylabel('Price')\n",
    "plt.legend()\n",
    "plt.grid()\n",
    "plt.show()\n",
    "\n",
    "\n",
    "\n",
    "\n",
    "from statsmodels.tsa.seasonal import seasonal_decompose\n",
    "\n",
    "\n",
    "result = seasonal_decompose(df[''], model='additive', period=365)\n",
    "\n",
    "\n",
    "result.plot()\n",
    "plt.show()\n",
    "\n",
    "\n",
    "\n",
    "\n",
    "from statsmodels.graphics.tsaplots import plot_acf\n",
    "import matplotlib.pyplot as plt\n",
    "\n",
    "MAX_LAGS = 100  \n",
    "USE_FFT = True  \n",
    "\n",
    "\n",
    "plt.figure(figsize=(10, 5))\n",
    "plot_acf(df[''], lags=MAX_LAGS, fft=USE_FFT, alpha=0.05)\n",
    "plt.title('Optimized Autocorrelation of Close Price')\n",
    "plt.show()"
   ]
  },
  {
   "cell_type": "code",
   "execution_count": null,
   "metadata": {},
   "outputs": [],
   "source": [
    "plt.figure(figsize=(14, 7))\n",
    "plt.plot(test_df.sort_values(\"d\")['d'][-10000:], test_df.sort_values(\"d\")['c'][-10000:], label='real_close')\n",
    "    \n",
    "# Линия для предсказаний\n",
    "plt.plot(test_df.sort_values(\"d\")['d'][-10000:], y_pred[-10000:], label='predictions', linestyle='-')\n",
    "# plt.plot(df['date'], df['predictions']-2.3, label='predictions', linestyle='-')\n",
    "\n",
    "plt.legend(fontsize=25)\n",
    "plt.grid(True)\n",
    "\n",
    "# Показать график\n",
    "plt.show()"
   ]
  },
  {
   "cell_type": "code",
   "execution_count": null,
   "metadata": {},
   "outputs": [],
   "source": [
    "# plt.figure(figsize=(8, 8))\n",
    "# plt.scatter(test_df['c'].values, y_pred, color='purple', alpha=0.7) \n",
    "# plt.title('График корреляции предсказаний и реальных значений (c)', fontsize=16)\n",
    "# plt.xlabel('Реальные значения (c)', fontsize=12)\n",
    "# plt.ylabel('Предсказанные значения', fontsize=12)\n",
    "# plt.grid(True)\n",
    "# plt.plot([min(test_df['c'].values), max(test_df['CLOSE'].values)], [min(test_df['CLOSE'].values), max(test_df['CLOSE'].values)], color='gray', linestyle='--') # Линия идеального соответствия\n",
    "# plt.tight_layout()\n",
    "# plt.show()\n",
    "\n",
    "# Кривые валидации (график обучения)\n",
    "# plt.figure(figsize=(10, 6))\n",
    "# plt.plot(history.history['loss'], label='Ошибка обучения (loss)', color='green')\n",
    "# plt.plot(history.history['val_loss'], label='Ошибка валидации (val_loss)', color='orange')\n",
    "# plt.title('Кривые обучения и валидации', fontsize=16)\n",
    "# plt.xlabel('Эпоха', fontsize=12)\n",
    "# plt.ylabel('MSE', fontsize=12)\n",
    "# plt.legend()\n",
    "# plt.grid(True)\n",
    "# plt.tight_layout()\n",
    "# plt.show()"
   ]
  },
  {
   "cell_type": "code",
   "execution_count": null,
   "metadata": {},
   "outputs": [],
   "source": [
    "# import pandas as pd\n",
    "# from statsmodels.tsa.stattools import adfuller\n",
    "# import matplotlib.pyplot as plt\n",
    "\n",
    "# ts = df1['']  \n",
    "\n",
    "# # ADF тест\n",
    "\n",
    "\n",
    "# sample_rate = 10  # Можно увеличить для большей скорости, например 100, 1000\n",
    "# ts_sampled = ts[::sample_rate] # Берем каждый sample_rate-й элемент\n",
    "\n",
    "# # ADF тест на выборке\n",
    "# result_sampled = adfuller(ts_sampled.dropna())\n",
    "# print('ADF Statistic (sampled):', result_sampled[0])\n",
    "# print('p-value (sampled):', result_sampled[1])\n",
    "# print('Critical Values (sampled):')\n",
    "# for key, value in result_sampled[4].items():\n",
    "#     print(f'\\t{key}: {value}')\n",
    "\n",
    "# if result_sampled[1] > 0.05:\n",
    "#     print('Ряд не стационарен (принимаем H0) - на выборке')\n",
    "# else:\n",
    "#     print('Ряд стационарен (отвергаем H0) - на выборке')\n",
    "\n",
    "# if result_sampled[0] > result_sampled[4]['5%']:\n",
    "#     print('Единичные корни присутствуют - ряд не стационарен - на выборке')\n",
    "# else:\n",
    "#     print('Единичных корней нет - ряд стационарен - на выборке')"
   ]
  }
 ],
 "metadata": {
  "kernelspec": {
   "display_name": "base",
   "language": "python",
   "name": "python3"
  },
  "language_info": {
   "codemirror_mode": {
    "name": "ipython",
    "version": 3
   },
   "file_extension": ".py",
   "mimetype": "text/x-python",
   "name": "python",
   "nbconvert_exporter": "python",
   "pygments_lexer": "ipython3",
   "version": "3.12.7"
  }
 },
 "nbformat": 4,
 "nbformat_minor": 2
}
